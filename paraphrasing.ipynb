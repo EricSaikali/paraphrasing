{
 "cells": [
  {
   "metadata": {},
   "cell_type": "markdown",
   "source": [
    "# Paraphrase Model Development\n",
    "### In this notebook, we will explore how to build models for paraphrasing sentences using both simple and advanced approaches. \n",
    "### With the aim to answer the question : How do you evaluate whether your model is good at paraphrasing?\n",
    "# 1. Problem Understanding & Assumptions\n",
    "\n",
    "## Dataset Overview\n",
    " - We are working with the Quora Question Pairs dataset\n",
    " - The data contains pairs of questions where some are paraphrases of each other\n",
    " - We will use this for training and evaluating paraphrase generation models\n",
    " \n",
    "## Key Assumptions\n",
    " - Paraphrases should maintain the same semantic meaning as the original sentence\n",
    " - A good paraphrase should be different in structure/wording from the original\n",
    " - Different approaches may have different strengths (diversity vs. meaning preservation)\n",
    " - Automatic evaluation metrics provide useful but imperfect signals of quality\n",
    " \n",
    "## Evaluation Approach\n",
    " - We will use both automatic metrics (BLEU, ROUGE, BERTScore), semantic similarity, lexical diversity and fluency measures.\n",
    " - Develop a reward/evaluator model for specialized evaluation on this dataset.\n",
    "\n",
    "## Planned Methodology\n",
    "- Implement and fine-tune a statistical baseline method using word net synonym search and replacement. \n",
    "- Fine-tune for paraphrasing a more complex model, SmolLM-135M via SFT and LoRA.\n",
    "- Compare and analyze results from both methods "
   ],
   "id": "2ecedcdc78f4fe68"
  },
  {
   "metadata": {},
   "cell_type": "markdown",
   "source": "## Imports, constants and global variables",
   "id": "524e280324ac29f2"
  },
  {
   "cell_type": "code",
   "id": "initial_id",
   "metadata": {
    "collapsed": true,
    "ExecuteTime": {
     "end_time": "2025-05-19T12:11:31.735506Z",
     "start_time": "2025-05-19T12:11:31.574899Z"
    }
   },
   "source": [
    "\n",
    "import pandas as pd\n",
    "from datasets import load_dataset, DatasetDict, ClassLabel\n",
    "from torch.utils.data import Dataset, DataLoader\n",
    "from dataset.quora_dataset import QuoraDataset\n",
    "from tqdm import tqdm\n",
    "from utils import *\n",
    "from matplotlib import pyplot as plt\n",
    "import seaborn as sns\n",
    "from nltk.stem import WordNetLemmatizer\n",
    "import nltk\n",
    "from models.word_net_paraphraser import WordNetParaphraser\n",
    "from paraphrase_evaluator import ParaphraseEvaluator\n",
    "from models.reward_model import RewardModel\n",
    "from trainers.reward_trainer import train_reward_model\n",
    "import torch\n",
    "from datasets import load_dataset\n",
    "from transformers import AutoTokenizer, AutoModelForCausalLM\n",
    "from trl import PPOTrainer, PPOConfig, AutoModelForCausalLMWithValueHead\n",
    "\n",
    "import sentence_transformers\n",
    "import torch.nn.functional as F\n",
    "\n",
    "nltk.download('averaged_perceptron_tagger_eng')\n",
    "nltk.download('punkt_tab')\n",
    "tqdm.pandas()"
   ],
   "outputs": [
    {
     "name": "stderr",
     "output_type": "stream",
     "text": [
      "[nltk_data] Downloading package averaged_perceptron_tagger_eng to\n",
      "[nltk_data]     /Users/ericsaikali/nltk_data...\n",
      "[nltk_data]   Package averaged_perceptron_tagger_eng is already up-to-\n",
      "[nltk_data]       date!\n",
      "[nltk_data] Downloading package punkt_tab to\n",
      "[nltk_data]     /Users/ericsaikali/nltk_data...\n",
      "[nltk_data]   Package punkt_tab is already up-to-date!\n"
     ]
    }
   ],
   "execution_count": 22
  },
  {
   "metadata": {},
   "cell_type": "markdown",
   "source": "### Constants",
   "id": "a03cf72b47c320b9"
  },
  {
   "metadata": {
    "ExecuteTime": {
     "end_time": "2025-05-19T12:11:33.578891Z",
     "start_time": "2025-05-19T12:11:33.576884Z"
    }
   },
   "cell_type": "code",
   "source": [
    "SEED = 42\n",
    "QUORA_TEST_PROPORTION = 0.2\n",
    "QUORA_VALID_PROPORTION = 0.5\n",
    "EPSILON = 1e-6"
   ],
   "id": "9d6a02462e2d6a54",
   "outputs": [],
   "execution_count": 23
  },
  {
   "metadata": {},
   "cell_type": "markdown",
   "source": "### Global Variables",
   "id": "1825df597261713f"
  },
  {
   "metadata": {
    "ExecuteTime": {
     "end_time": "2025-05-19T12:11:34.604103Z",
     "start_time": "2025-05-19T12:11:34.600258Z"
    }
   },
   "cell_type": "code",
   "source": "device = find_device(use_gpu=True)",
   "id": "cdd67d0e131c3314",
   "outputs": [],
   "execution_count": 24
  },
  {
   "metadata": {
    "ExecuteTime": {
     "end_time": "2025-05-19T12:11:40.874572Z",
     "start_time": "2025-05-19T12:11:35.013377Z"
    }
   },
   "cell_type": "code",
   "source": [
    "paraphrase_evaluator = ParaphraseEvaluator()\n",
    "lemmatizer = WordNetLemmatizer()"
   ],
   "id": "72c1a2fa89de4d75",
   "outputs": [
    {
     "name": "stderr",
     "output_type": "stream",
     "text": [
      "[nltk_data] Downloading package wordnet to\n",
      "[nltk_data]     /Users/ericsaikali/nltk_data...\n",
      "[nltk_data]   Package wordnet is already up-to-date!\n",
      "[nltk_data] Downloading package punkt_tab to\n",
      "[nltk_data]     /Users/ericsaikali/nltk_data...\n",
      "[nltk_data]   Package punkt_tab is already up-to-date!\n",
      "[nltk_data] Downloading package omw-1.4 to\n",
      "[nltk_data]     /Users/ericsaikali/nltk_data...\n",
      "[nltk_data]   Package omw-1.4 is already up-to-date!\n"
     ]
    }
   ],
   "execution_count": 25
  },
  {
   "metadata": {},
   "cell_type": "markdown",
   "source": "### Dataset Loading",
   "id": "c9a3663d83f5b3d8"
  },
  {
   "metadata": {
    "ExecuteTime": {
     "end_time": "2025-05-19T12:11:52.467518Z",
     "start_time": "2025-05-19T12:11:41.044583Z"
    }
   },
   "cell_type": "code",
   "source": [
    "set_seed(SEED)\n",
    "quora_dataset = load_quora_dataset(SEED, QUORA_TEST_PROPORTION, QUORA_VALID_PROPORTION)\n",
    "\n",
    "train_df = pd.DataFrame(quora_dataset['train'])\n",
    "test_df = pd.DataFrame(quora_dataset['test'])\n",
    "valid_df = pd.DataFrame(quora_dataset['valid'])"
   ],
   "id": "2b905915a37364aa",
   "outputs": [],
   "execution_count": 26
  },
  {
   "metadata": {},
   "cell_type": "markdown",
   "source": "## Preparation for model training and design: Dataset Exploration",
   "id": "b2d46eaa0be695fc"
  },
  {
   "metadata": {},
   "cell_type": "markdown",
   "source": "First, Let's see what does the datasett looks like.",
   "id": "60f3972af9be79aa"
  },
  {
   "metadata": {
    "ExecuteTime": {
     "end_time": "2025-05-19T12:11:52.471889Z",
     "start_time": "2025-05-19T12:11:52.468539Z"
    }
   },
   "cell_type": "code",
   "source": "train_df.head(5)",
   "id": "67a888f5b8bd849e",
   "outputs": [
    {
     "data": {
      "text/plain": [
       "   is_duplicate  question1_id  question2_id  \\\n",
       "0             0        487694        487695   \n",
       "1             0         93192         93193   \n",
       "2             0        498529        498530   \n",
       "3             1        433795        433796   \n",
       "4             0        510469        510470   \n",
       "\n",
       "                                           question1  \\\n",
       "0         In Minecraft, how do I hatch a dragon egg?   \n",
       "1  What are the methods to determine the current ...   \n",
       "2                What is the best option after MBBS?   \n",
       "3  Can I combine the output of two bolts into one...   \n",
       "4                    Is Frank Ocean gay or bisexual?   \n",
       "\n",
       "                                           question2  \n",
       "0                        How do I fish in Minecraft?  \n",
       "1  What are the methods to determine the current ...  \n",
       "2  Is there any option for lateral entry for MBBS...  \n",
       "3  Can I combine the output of two bolts to one b...  \n",
       "4  Frank Ocean: What does \"Pimping in my convos\" ...  "
      ],
      "text/html": [
       "<div>\n",
       "<style scoped>\n",
       "    .dataframe tbody tr th:only-of-type {\n",
       "        vertical-align: middle;\n",
       "    }\n",
       "\n",
       "    .dataframe tbody tr th {\n",
       "        vertical-align: top;\n",
       "    }\n",
       "\n",
       "    .dataframe thead th {\n",
       "        text-align: right;\n",
       "    }\n",
       "</style>\n",
       "<table border=\"1\" class=\"dataframe\">\n",
       "  <thead>\n",
       "    <tr style=\"text-align: right;\">\n",
       "      <th></th>\n",
       "      <th>is_duplicate</th>\n",
       "      <th>question1_id</th>\n",
       "      <th>question2_id</th>\n",
       "      <th>question1</th>\n",
       "      <th>question2</th>\n",
       "    </tr>\n",
       "  </thead>\n",
       "  <tbody>\n",
       "    <tr>\n",
       "      <th>0</th>\n",
       "      <td>0</td>\n",
       "      <td>487694</td>\n",
       "      <td>487695</td>\n",
       "      <td>In Minecraft, how do I hatch a dragon egg?</td>\n",
       "      <td>How do I fish in Minecraft?</td>\n",
       "    </tr>\n",
       "    <tr>\n",
       "      <th>1</th>\n",
       "      <td>0</td>\n",
       "      <td>93192</td>\n",
       "      <td>93193</td>\n",
       "      <td>What are the methods to determine the current ...</td>\n",
       "      <td>What are the methods to determine the current ...</td>\n",
       "    </tr>\n",
       "    <tr>\n",
       "      <th>2</th>\n",
       "      <td>0</td>\n",
       "      <td>498529</td>\n",
       "      <td>498530</td>\n",
       "      <td>What is the best option after MBBS?</td>\n",
       "      <td>Is there any option for lateral entry for MBBS...</td>\n",
       "    </tr>\n",
       "    <tr>\n",
       "      <th>3</th>\n",
       "      <td>1</td>\n",
       "      <td>433795</td>\n",
       "      <td>433796</td>\n",
       "      <td>Can I combine the output of two bolts into one...</td>\n",
       "      <td>Can I combine the output of two bolts to one b...</td>\n",
       "    </tr>\n",
       "    <tr>\n",
       "      <th>4</th>\n",
       "      <td>0</td>\n",
       "      <td>510469</td>\n",
       "      <td>510470</td>\n",
       "      <td>Is Frank Ocean gay or bisexual?</td>\n",
       "      <td>Frank Ocean: What does \"Pimping in my convos\" ...</td>\n",
       "    </tr>\n",
       "  </tbody>\n",
       "</table>\n",
       "</div>"
      ]
     },
     "execution_count": 27,
     "metadata": {},
     "output_type": "execute_result"
    }
   ],
   "execution_count": 27
  },
  {
   "metadata": {},
   "cell_type": "markdown",
   "source": [
    "It is seems like a dataset of precise questions which have in most cases a non-nul repetition of words between each pairs.  \n",
    "We can also see that there are slight nuances which create meaningful difference in the paraphrasing."
   ],
   "id": "b1aa47c98583c2fd"
  },
  {
   "metadata": {
    "ExecuteTime": {
     "end_time": "2025-05-19T12:11:52.686517Z",
     "start_time": "2025-05-19T12:11:52.472495Z"
    }
   },
   "cell_type": "code",
   "source": [
    "plt.figure(figsize=(8, 6))\n",
    "sns.countplot(x='is_duplicate', data=train_df)\n",
    "plt.title('Distribution of Duplicate vs Non-Duplicate Question Pairs')\n",
    "plt.xlabel('Is Duplicate (1 = Yes, 0 = No)')\n",
    "plt.ylabel('Count')\n",
    "plt.show()"
   ],
   "id": "8ccc206196729c65",
   "outputs": [
    {
     "data": {
      "text/plain": [
       "<Figure size 800x600 with 1 Axes>"
      ],
      "image/png": "[encoded data removed]"
     },
     "metadata": {},
     "output_type": "display_data"
    }
   ],
   "execution_count": 28
  },
  {
   "metadata": {
    "ExecuteTime": {
     "end_time": "2025-05-19T12:11:52.692365Z",
     "start_time": "2025-05-19T12:11:52.687803Z"
    }
   },
   "cell_type": "code",
   "source": [
    "proportions_df = (train_df.groupby(by='is_duplicate')[['question1_id']].count() / len(train_df)).rename(\n",
    "    columns={'question1_id': 'proportion'}).reset_index()\n",
    "prop_diff = proportions_df.loc[0, 'proportion'] - proportions_df.loc[1, 'proportion']\n",
    "print(f\"There is {prop_diff * 100:.2f}% non-duplicate question pairs \")"
   ],
   "id": "e0ce21b4bff030d2",
   "outputs": [
    {
     "name": "stdout",
     "output_type": "stream",
     "text": [
      "There is 26.16% non-duplicate question pairs \n"
     ]
    }
   ],
   "execution_count": 29
  },
  {
   "metadata": {},
   "cell_type": "markdown",
   "source": [
    "The above plot shows that there are more non-duplicate pairs compared to duplicates ones.   \n",
    "We could potentially leverage these via RL-based methods such as PPO or for our evaluator."
   ],
   "id": "196619e11d61d1d0"
  },
  {
   "metadata": {
    "ExecuteTime": {
     "end_time": "2025-05-19T12:11:54.761954Z",
     "start_time": "2025-05-19T12:11:54.747508Z"
    }
   },
   "cell_type": "code",
   "source": [
    "positive_pairs = train_df[train_df['is_duplicate'] == 1][['question1', 'question2']]\n",
    "positive_pairs.columns = ['source', 'target']"
   ],
   "id": "19c791a365362f25",
   "outputs": [],
   "execution_count": 30
  },
  {
   "metadata": {
    "ExecuteTime": {
     "end_time": "2025-05-19T12:11:55.887395Z",
     "start_time": "2025-05-19T12:11:55.282572Z"
    }
   },
   "cell_type": "code",
   "source": [
    "positive_pairs['source_len'] = positive_pairs['source'].apply(lambda x: len(x.split()))\n",
    "positive_pairs['target_len'] = positive_pairs['target'].apply(lambda x: len(x.split()))\n",
    "\n",
    "plt.figure(figsize=(12, 5))\n",
    "\n",
    "plt.subplot(1, 2, 1)\n",
    "sns.histplot(positive_pairs['source_len'], kde=True)\n",
    "plt.title('Source Sentence Length Distribution')\n",
    "plt.xlabel('Number of Words')\n",
    "plt.ylabel('Frequency')\n",
    "\n",
    "plt.subplot(1, 2, 2)\n",
    "sns.histplot(positive_pairs['target_len'], kde=True)\n",
    "plt.title('Target Sentence Length Distribution')\n",
    "plt.xlabel('Number of Words')\n",
    "plt.ylabel('Frequency')\n",
    "\n",
    "plt.tight_layout()\n",
    "plt.show()"
   ],
   "id": "686bb37e80ca6055",
   "outputs": [
    {
     "data": {
      "text/plain": [
       "<Figure size 1200x500 with 2 Axes>"
      ],
      "image/png": "[encoded data removed]"
     },
     "metadata": {},
     "output_type": "display_data"
    }
   ],
   "execution_count": 31
  },
  {
   "metadata": {},
   "cell_type": "markdown",
   "source": [
    "The above graph shows that the number of words in the sentences follows a gaussian distribution centered around ~8.\n",
    "It also shows that for both questions, the distribution appears to be similar. \n",
    "This is reassuring as there is no imbalance disparity in the dataset."
   ],
   "id": "1a9789c74c05df44"
  },
  {
   "metadata": {},
   "cell_type": "markdown",
   "source": [
    "In order to fine-tune our base model, I selected two automatic metrics which are relatively quick to compute:\n",
    "- **Meteor aiming to evaluating semantic fidelity :**    \n",
    "Unlike metrics that rely solely on exact word matches, METEOR incorporates stemming, synonymy, and paraphrase matching, providing a more nuanced assessment of semantic similarity.\n",
    "    \n",
    "- **N-gram Novelty (with N=3 here) to assessing lexical diversity :**     \n",
    "- Originally introduced in [Evaluating n-Gram Novelty of Language Models Using Rusty-DAWG by Merrill et al. (2024)](https://aclanthology.org/2024.emnlp-main.800.pdf?utm_source=chatgpt.com), this metric measures the proportion of n-grams in the paraphrased text that are not present in the source sentence. By quantify how much new lexical content is introduced, it ensures that paraphrases are not replicas of the source but offer varied expressions."
   ],
   "id": "3bf58709ff5c26ee"
  },
  {
   "metadata": {
    "ExecuteTime": {
     "end_time": "2025-05-19T12:20:45.819292Z",
     "start_time": "2025-05-19T12:13:06.954608Z"
    }
   },
   "cell_type": "code",
   "source": [
    "train_df['ngram_novelty'] = train_df.progress_apply(\n",
    "    lambda row: paraphrase_evaluator.calculate_ngram_novelty(row['question1'], row['question2'], n=3), axis=1\n",
    ")\n",
    "train_df['meteor'] = train_df.progress_apply(\n",
    "    lambda row: paraphrase_evaluator.calculate_meteor(row['question1'], row['question2'])['meteor'], axis=1\n",
    ")"
   ],
   "id": "2df633cfeb771c6c",
   "outputs": [
    {
     "name": "stderr",
     "output_type": "stream",
     "text": [
      "100%|██████████| 323432/323432 [00:03<00:00, 106027.00it/s]\n",
      "100%|██████████| 323432/323432 [07:35<00:00, 709.58it/s]\n"
     ]
    }
   ],
   "execution_count": 32
  },
  {
   "metadata": {},
   "cell_type": "markdown",
   "source": [
    "try:\n",
    "    train_df = pd.read_csv('train.csv')\n",
    "except Exception as e:\n",
    "    train_df.to_csv('train.csv', index=False)"
   ],
   "id": "45b312e0a2face1c"
  },
  {
   "metadata": {
    "ExecuteTime": {
     "end_time": "2025-05-19T12:20:46.471831Z",
     "start_time": "2025-05-19T12:20:45.820486Z"
    }
   },
   "cell_type": "code",
   "source": [
    "import matplotlib.pyplot as plt\n",
    "import seaborn as sns\n",
    "\n",
    "plt.figure(figsize=(12, 5))\n",
    "\n",
    "# Meteor Score Distribution\n",
    "plt.subplot(1, 2, 1)\n",
    "sns.histplot(data=train_df, x='meteor', hue='is_duplicate', kde=True, element=\"step\", stat=\"density\", common_norm=False)\n",
    "plt.title('METEOR Score Distribution by Duplicate Label')\n",
    "plt.xlabel('METEOR Score')\n",
    "plt.ylabel('Density')\n",
    "\n",
    "# 3-gram Diversity Distribution\n",
    "plt.subplot(1, 2, 2)\n",
    "sns.histplot(data=train_df, x='ngram_novelty', bins=50, hue='is_duplicate', kde=True, element=\"step\", stat=\"density\",\n",
    "             common_norm=True)\n",
    "plt.title('Trigram Diversity Distribution by Duplicate Label')\n",
    "plt.xlabel('Trigram Diversity')\n",
    "plt.ylabel('Density')\n",
    "\n",
    "plt.tight_layout()\n",
    "plt.show()"
   ],
   "id": "7d9e0d884e8f7d9e",
   "outputs": [
    {
     "data": {
      "text/plain": [
       "<Figure size 1200x500 with 2 Axes>"
      ],
      "image/png": "[encoded data removed]"
     },
     "metadata": {},
     "output_type": "display_data"
    }
   ],
   "execution_count": 33
  },
  {
   "metadata": {},
   "cell_type": "markdown",
   "source": [
    "Based on the above graph, we can see that the general trend on the training set is that a meteor score between 0.4 and 0.9 is most likely a proper paraphrase. Concerning the trigram diversity, it seems to appear quite uniform except at the very end, when diversity is above 0.9 and leaning towards 1 (i.e. no ressemblance between sentences).\n",
    "\n",
    "Using this knowledge, we can now finetune our word net paraphraser according to it."
   ],
   "id": "9fb40499727d2d37"
  },
  {
   "metadata": {},
   "cell_type": "markdown",
   "source": "## Baseline Model: Thesaurus Based Approach",
   "id": "d03e07247eb8e2af"
  },
  {
   "metadata": {},
   "cell_type": "markdown",
   "source": [
    "\n",
    "For the baseline model, I Built a **WordNet-based paraphraser** as a baseline due to its transparency, and historical relevance in paraphrase generation research. It is based on the word substitution baseline introduced by [Paraphrase Generation as Monolingual Translation: Data and Evaluation](https://aclanthology.org/W10-4223.pdf) (section 3.2). As a **thesaurus-based approach**, it performs targeted synonym substitution using WordNet, guided by part-of-speech tagging and lexical heuristics. Offering a clear and interpretable way to generate lexical variation without the complexity of neural models. While limited in semantic flexibility and syntactic diversity, it remains a strong low-resource baseline, particularly useful for highlighting the gains achieved by more advanced models.\n"
   ],
   "id": "3f2e28a04c1636b3"
  },
  {
   "metadata": {},
   "cell_type": "markdown",
   "source": [
    "https://aclanthology.org/2021.emnlp-main.414.pdf\n",
    "https://aclanthology.org/2021.emnlp-main.414.pdf\n",
    "https://aclanthology.org/2022.emnlp-main.208.pdf\n"
   ],
   "id": "445ed4338f1c4d1c"
  },
  {
   "metadata": {},
   "cell_type": "markdown",
   "source": [
    "In order to fine-tune the **WordNetParaphraser**'s hyperparameters,\n",
    "we use a grid search approach and the previous metrics introduced, Meteor and n-gram novelty (with n=3)\n",
    "\n",
    "replacement_probs: the probability of changing a POS word,    \n",
    "min_tok_size: the minimal size of a token for it to be changed,   \n",
    "max_synonyms: the maximal number of synonyms to choose from.\n",
    "\n",
    "\n"
   ],
   "id": "1a06c05e3230b8a1"
  },
  {
   "metadata": {
    "ExecuteTime": {
     "end_time": "2025-05-19T12:20:46.476690Z",
     "start_time": "2025-05-19T12:20:46.472529Z"
    }
   },
   "cell_type": "code",
   "source": [
    "validation_source_sentences = valid_df[valid_df['is_duplicate'] == 1]['question1'].tolist()\n",
    "validation_reference_sentences = valid_df[valid_df['is_duplicate'] == 1]['question2'].tolist()"
   ],
   "id": "2f47595caa463b60",
   "outputs": [],
   "execution_count": 34
  },
  {
   "metadata": {
    "ExecuteTime": {
     "end_time": "2025-05-19T12:20:46.480190Z",
     "start_time": "2025-05-19T12:20:46.478201Z"
    }
   },
   "cell_type": "code",
   "source": [
    "replacement_probs = np.arange(0.5, 1, 0.1)\n",
    "max_synonyms_list = np.arange(1, 3)\n",
    "min_tok_sizes = np.arange(2, 5)\n",
    "\n",
    "best_params = (-1, -1, -1)\n",
    "best_score = -1\n",
    "best_paraphrases = None\n",
    "\n",
    "METEOR_SCORE_PROPORTION = 0.75\n",
    "NGRAM_NOVELTY_PROPORTION = 0.25\n",
    "\n",
    "OBSERVATION_MIN_METEOR = 0.4\n",
    "OBSERVATION_MAX_METEOR = 0.9\n",
    "OBSERVATION_NGRAM_NOVELTY = 0.9"
   ],
   "id": "5c750b1fb70e5cc0",
   "outputs": [],
   "execution_count": 35
  },
  {
   "metadata": {
    "ExecuteTime": {
     "end_time": "2025-05-19T12:42:27.220864Z",
     "start_time": "2025-05-19T12:20:46.480935Z"
    }
   },
   "cell_type": "code",
   "source": [
    "set_seed(SEED)\n",
    "for max_synonyms in max_synonyms_list:\n",
    "    for min_tok_size in min_tok_sizes:\n",
    "        for replacement_prob in tqdm(replacement_probs, desc=\"Testing synonym replacement\"):\n",
    "            wordnet_paraphraser = WordNetParaphraser(replacement_prob=replacement_prob,\n",
    "                                                     max_synonyms=max_synonyms,\n",
    "                                                     min_tok_size=min_tok_size)\n",
    "            paraphrases = wordnet_paraphraser.batch_paraphrase(validation_source_sentences, verbose=False)\n",
    "            batch_scores = paraphrase_evaluator.evaluate_batch(validation_source_sentences,\n",
    "                                                               validation_reference_sentences,\n",
    "                                                               paraphrases,\n",
    "                                                               evaluated_metric=['meteor', 'ngram_novelty'],\n",
    "                                                               verbose=False)\n",
    "            meteor_score = batch_scores[1]['meteor']\n",
    "            ngram_novelty_score = batch_scores[1]['ngram_novelty']\n",
    "            current_score = meteor_score * METEOR_SCORE_PROPORTION + ngram_novelty_score * NGRAM_NOVELTY_PROPORTION\n",
    "            if current_score > best_score and OBSERVATION_MIN_METEOR < meteor_score < OBSERVATION_MAX_METEOR and ngram_novelty_score < OBSERVATION_NGRAM_NOVELTY:\n",
    "                best_params = (max_synonyms, min_tok_size, replacement_prob)\n",
    "                best_score = current_score\n",
    "                best_paraphrases = paraphrases\n"
   ],
   "id": "c6c04a7fd90dae34",
   "outputs": [
    {
     "name": "stderr",
     "output_type": "stream",
     "text": [
      "Testing synonym replacement: 100%|██████████| 7/7 [02:47<00:00, 23.86s/it]\n",
      "Testing synonym replacement: 100%|██████████| 7/7 [02:43<00:00, 23.35s/it]\n",
      "Testing synonym replacement: 100%|██████████| 7/7 [02:41<00:00, 23.03s/it]\n",
      "Testing synonym replacement: 100%|██████████| 7/7 [02:39<00:00, 22.73s/it]\n",
      "Testing synonym replacement: 100%|██████████| 7/7 [02:43<00:00, 23.33s/it]\n",
      "Testing synonym replacement: 100%|██████████| 7/7 [02:43<00:00, 23.29s/it]\n",
      "Testing synonym replacement: 100%|██████████| 7/7 [02:42<00:00, 23.16s/it]\n",
      "Testing synonym replacement: 100%|██████████| 7/7 [02:41<00:00, 23.06s/it]\n"
     ]
    }
   ],
   "execution_count": 36
  },
  {
   "metadata": {
    "ExecuteTime": {
     "end_time": "2025-05-19T12:42:59.827536Z",
     "start_time": "2025-05-19T12:42:59.823637Z"
    }
   },
   "cell_type": "code",
   "source": [
    "displayed_num = 5\n",
    "print(f\"Best params: {best_params}\")\n",
    "print(f\"Best score: {best_score}\")\n",
    "\n",
    "display_paraphrasing_results(validation_source_sentences, validation_reference_sentences, best_paraphrases,displayed_num)\n"
   ],
   "id": "35748195708290ab",
   "outputs": [
    {
     "name": "stdout",
     "output_type": "stream",
     "text": [
      "Best params: (np.int64(1), np.int64(2), np.float64(0.9999999999999999))\n",
      "Best score: 0.5413135971987386\n",
      "Paraphrase: What be secularism ?\n",
      "Source: What is secularism?\n",
      "Reference: What is secularism? Are the Indian political parties secular?\n",
      "\n",
      "\n",
      "Paraphrase: What will exist the wallop of the measure take to censor the 500 & 1000 Sri Lanka rupee short letter on Indian economic system ?\n",
      "Source: What will be the impact of the step taken to ban the 500 & 1000 rupee note on Indian economy?\n",
      "Reference: What will be the implications of banning 500 and 1000 rupees currency notes on Indian economy?\n",
      "\n",
      "\n",
      "Paraphrase: How many gram of glucose ( C [ mathematics ] _6 [ /math ] H [ mathematics ] _12 [ /math ] O [ mathematics ] _6 [ /math ] ) be necessitate to do 250mL of an 0.360 answer ?\n",
      "Source: How many grams of glucose (C[math]_6[/math]H[math]_12[/math]O[math]_6[/math]) are needed to make 250mL of an 0.360 solution?\n",
      "Reference: How many grams of glucose (c6H12O6) are needed to make 250mL of an 0.360 solution?\n",
      "\n",
      "\n",
      "Paraphrase: Can we clip traveling ?\n",
      "Source: Can we time travel?\n",
      "Reference: How is time travel possible?\n",
      "\n",
      "\n",
      "Paraphrase: What be a dual supplanting chemical reaction ? What be some example ?\n",
      "Source: What is a double displacement reaction? What are some examples?\n",
      "Reference: What are some common examples of double displacement reactions?\n",
      "\n",
      "\n"
     ]
    }
   ],
   "execution_count": 38
  },
  {
   "metadata": {
    "ExecuteTime": {
     "end_time": "2025-05-19T12:44:04.595002Z",
     "start_time": "2025-05-19T12:44:04.592621Z"
    }
   },
   "cell_type": "code",
   "source": [
    "replacement_prob = best_params[2]\n",
    "max_synonyms = best_params[1]\n",
    "min_tok_size = best_params[0]\n",
    "wordnet_paraphraser = WordNetParaphraser(replacement_prob=replacement_prob,\n",
    "                                         max_synonyms=max_synonyms,\n",
    "                                         min_tok_size=min_tok_size)"
   ],
   "id": "f158d3b5ef359ba5",
   "outputs": [],
   "execution_count": 39
  },
  {
   "metadata": {},
   "cell_type": "markdown",
   "source": "### Evaluation of Baseline and boostrapping discussion",
   "id": "11668007d697a6e5"
  },
  {
   "metadata": {},
   "cell_type": "markdown",
   "source": [
    "### Discussion\n",
    "\n",
    "Evaluating paraphrasing quality is inherently challenging because a \"good\" paraphrase must balance multiple competing objectives:\n",
    "\n",
    "**Semantic preservation:** The paraphrase must maintain the original meaning    \n",
    "**Expression diversity:** It should differ lexically/syntactically from the original     \n",
    "**Fluency and grammaticality:** It must be well-formed and natural-sounding     \n",
    "\n",
    "This creates a fundamental tension, a perfect semantic match would be the original sentence itself (minimal diversity), while maximum diversity often compromises meaning preservation."
   ],
   "id": "43846b998e833d4d"
  },
  {
   "metadata": {},
   "cell_type": "markdown",
   "source": [
    "In the context of this evaluation, a collection of established metrics along with a reward model. are used to evaluate the performance of this model.\n",
    "\n",
    "They include:\n",
    "- Lexical Overlap Metrics:\n",
    "    - BLEU: which measures n-gram overlap between candidate and reference, taking into account fluency but penalizes lexical diversity, and favors literal paraphrases.\n",
    "    - Rouge: which measures overlap focusing on recall rather than precision, and evaluates textual coverage but penalizes lexical diversity.\n",
    "    - METEOR: which incorporates stemming, synonymy and word alignment, more flexible than bleu and allows for synonym matching but is still to \"superficial\".\n",
    "- Diversity Metrics:\n",
    "    - Edit Distance: which measures transformation cost between sentences.\n",
    "    - N-gram Novelty: which measures percentage of n-grams in paraphrase not in the original.\n",
    "    - Jaccard Similarity: which measures word overlap using set operations.\n",
    "- Similarity Metric:\n",
    "    - A custom made, reward/evaluating model finetuned on the Quora dataset, incorporating MiniLM embeddings to capture the contextual intra and inter similarities for sentences. "
   ],
   "id": "575741ee17307f0"
  },
  {
   "metadata": {},
   "cell_type": "markdown",
   "source": "### Evaluation",
   "id": "cc30123cb17cc8ed"
  },
  {
   "metadata": {
    "ExecuteTime": {
     "end_time": "2025-05-19T12:44:41.641112Z",
     "start_time": "2025-05-19T12:44:41.635272Z"
    }
   },
   "cell_type": "code",
   "source": [
    "test_source_sentences = test_df[test_df['is_duplicate'] == 1]['question1'].tolist()\n",
    "test_reference_sentences = test_df[test_df['is_duplicate'] == 1]['question2'].tolist()"
   ],
   "id": "d72743b9a3478624",
   "outputs": [],
   "execution_count": 43
  },
  {
   "metadata": {
    "ExecuteTime": {
     "end_time": "2025-05-19T12:53:32.228861Z",
     "start_time": "2025-05-19T12:44:42.805436Z"
    }
   },
   "cell_type": "code",
   "source": [
    "paraphrases = wordnet_paraphraser.batch_paraphrase(test_source_sentences, verbose=True)\n",
    "batch_scores = paraphrase_evaluator.evaluate_batch(test_source_sentences,\n",
    "                                                   test_reference_sentences,\n",
    "                                                   paraphrases,\n",
    "                                                   verbose=True)\n",
    "print(batch_scores[1])"
   ],
   "id": "f1a27a65c4ed2d12",
   "outputs": [
    {
     "name": "stderr",
     "output_type": "stream",
     "text": [
      "Generating paraphrases: 100%|██████████| 14927/14927 [00:02<00:00, 5190.58it/s]\n",
      "Evaluating: 100%|██████████| 14927/14927 [08:46<00:00, 28.35it/s]"
     ]
    },
    {
     "name": "stdout",
     "output_type": "stream",
     "text": [
      "{'bleu': np.float64(0.010054159707935963), 'meteor': np.float64(0.4126590467439272), 'rouge1': np.float64(0.33854759390835015), 'rouge2': np.float64(0.0760508290760806), 'rougeL': np.float64(0.3235287083987257), 'edit_distance': np.float64(0.5911284767269884), 'ngram_novelty': np.float64(0.8062506865607472)}\n"
     ]
    },
    {
     "name": "stderr",
     "output_type": "stream",
     "text": [
      "\n"
     ]
    }
   ],
   "execution_count": 44
  },
  {
   "metadata": {
    "ExecuteTime": {
     "end_time": "2025-05-19T12:54:16.617795Z",
     "start_time": "2025-05-19T12:54:16.615205Z"
    }
   },
   "cell_type": "code",
   "source": [
    "displayed_num = 5\n",
    "display_paraphrasing_results(test_source_sentences, test_reference_sentences, paraphrases,displayed_num)"
   ],
   "id": "bfeeb1b5a504a9e1",
   "outputs": [
    {
     "name": "stdout",
     "output_type": "stream",
     "text": [
      "Paraphrase: How can I go arrant ?\n",
      "Source: How can I become perfect?\n",
      "Reference: How can I become perfect in everything?\n",
      "\n",
      "\n",
      "Paraphrase: How perform I recover older snapchat message ?\n",
      "Source: How do I retrieve old snapchat messages?\n",
      "Reference: Is there any free tool to see my Boyfriend's Snapchat messages?\n",
      "\n",
      "\n",
      "Paraphrase: What be the good online course for digital selling ?\n",
      "Source: What are the best online courses for digital marketing?\n",
      "Reference: What are the best online short courses in digital marketing?\n",
      "\n",
      "\n",
      "Paraphrase: Exist Existence State of war 3 come up ?\n",
      "Source: Is World War 3 coming?\n",
      "Reference: Is there a war coming?\n",
      "\n",
      "\n",
      "Paraphrase: Which fancied fictitious character perform you consider you exist and why ?\n",
      "Source: Which fictional character do you think you are and why?\n",
      "Reference: Which fictional character are you?\n",
      "\n",
      "\n"
     ]
    }
   ],
   "execution_count": 45
  },
  {
   "metadata": {
    "ExecuteTime": {
     "end_time": "2025-05-19T12:59:01.833486Z",
     "start_time": "2025-05-19T12:57:44.536232Z"
    }
   },
   "cell_type": "code",
   "source": [
    "from models.reward_model import RewardModel\n",
    "from trainers.reward_trainer import test_reward_model\n",
    "\n",
    "reward_batch_size = 128\n",
    "reward_num_epochs = 3\n",
    "reward_learning_rate = 1e-4\n",
    "reward_print_every = 100\n",
    "\n",
    "reward_model = RewardModel()\n",
    "reward_model.eval()\n",
    "reward_model.load_state_dict(torch.load('storage/reward_model.pt'))\n",
    "\n",
    "test_dataset = QuoraDataset(quora_dataset['test'])\n",
    "test_dataloader = DataLoader(test_dataset,\n",
    "                              batch_size=reward_batch_size,\n",
    "                              shuffle=True,\n",
    "                              drop_last=False)\n",
    "\n",
    "accuracy = test_reward_model(reward_model, test_dataloader)\n",
    "batch_scores[1]['reward_accuracy'] = accuracy\n",
    "print(f\"Evaluator/Reward Model Accuracy: {accuracy}\")\n"
   ],
   "id": "ea27fa7daccaa0f8",
   "outputs": [
    {
     "name": "stderr",
     "output_type": "stream",
     "text": [
      "100%|██████████| 316/316 [01:06<00:00,  4.76it/s]"
     ]
    },
    {
     "name": "stdout",
     "output_type": "stream",
     "text": [
      "Evaluator/Reward Model Accuracy: 0.7938855771846941\n"
     ]
    },
    {
     "name": "stderr",
     "output_type": "stream",
     "text": [
      "\n"
     ]
    }
   ],
   "execution_count": 51
  },
  {
   "metadata": {},
   "cell_type": "code",
   "source": "valid_df[valid_df['is_duplicate'] == 1].iloc[5]",
   "id": "506ab64d35b04900",
   "outputs": [],
   "execution_count": null
  },
  {
   "metadata": {
    "ExecuteTime": {
     "end_time": "2025-05-19T13:13:22.059511Z",
     "start_time": "2025-05-19T13:13:21.352829Z"
    }
   },
   "cell_type": "code",
   "source": [
    "model_name = \"paraphrase_model_output/checkpoint-471\"\n",
    "tokenizer = AutoTokenizer.from_pretrained(model_name)\n",
    "model = AutoModelForCausalLM.from_pretrained(model_name)"
   ],
   "id": "855f0fa9944e973a",
   "outputs": [],
   "execution_count": 70
  },
  {
   "metadata": {
    "ExecuteTime": {
     "end_time": "2025-05-19T13:13:22.062632Z",
     "start_time": "2025-05-19T13:13:22.060778Z"
    }
   },
   "cell_type": "code",
   "source": "PROMPT = \"Paraphrase the following sentence: {source} ### Paraphrase:\"\n",
   "id": "4ba05d95c453184f",
   "outputs": [],
   "execution_count": 71
  },
  {
   "metadata": {
    "ExecuteTime": {
     "end_time": "2025-05-19T13:13:22.231737Z",
     "start_time": "2025-05-19T13:13:22.229069Z"
    }
   },
   "cell_type": "code",
   "source": "formated_ds = [PROMPT.format(source=sentence) for sentence in test_dataset[:10][0]]",
   "id": "97b3e4aacfe3441b",
   "outputs": [],
   "execution_count": 72
  },
  {
   "metadata": {
    "ExecuteTime": {
     "end_time": "2025-05-19T13:17:45.869054Z",
     "start_time": "2025-05-19T13:17:42.736187Z"
    }
   },
   "cell_type": "code",
   "source": [
    "model.eval()\n",
    "with torch.no_grad():\n",
    "    query_tensors = tokenizer(formated_ds, return_tensors=\"pt\", padding=True, padding_side='left')\n",
    "    output = model.generate(query_tensors.input_ids,attention_mask=query_tensors.attention_mask, top_p=0.9, max_new_tokens=50, temperature=0.1, top_k=0,\n",
    "                            repetition_penalty=1.2, early_stopping=True, do_sample=True)\n",
    "    predictions = tokenizer.batch_decode(output, skip_special_tokens=True)\n",
    "    preds = predictions\n"
   ],
   "id": "922b30968bc63dd6",
   "outputs": [
    {
     "name": "stderr",
     "output_type": "stream",
     "text": [
      "/opt/homebrew/anaconda3/envs/paraenv/lib/python3.10/site-packages/transformers/generation/configuration_utils.py:679: UserWarning: `num_beams` is set to 1. However, `early_stopping` is set to `True` -- this flag is only used in beam-based generation modes. You should set `num_beams>1` or unset `early_stopping`.\n",
      "  warnings.warn(\n",
      "Setting `pad_token_id` to `eos_token_id`:0 for open-end generation.\n"
     ]
    }
   ],
   "execution_count": 76
  },
  {
   "metadata": {
    "ExecuteTime": {
     "end_time": "2025-05-19T13:17:48.518551Z",
     "start_time": "2025-05-19T13:17:48.515495Z"
    }
   },
   "cell_type": "code",
   "source": "preds",
   "id": "f7897bbf3e3a9710",
   "outputs": [
    {
     "data": {
      "text/plain": [
       "['Paraphrase the following sentence: How can I become perfect? ### Paraphrase: The best way to be a good person is by being honest. ## Paraphrasing, paraphrases and rephrasings are all used in writing when you want your reader or listener to understand what you mean without having to read it yourself (or',\n",
       " 'Paraphrase the following sentence: What does the laws in Honduras regarding Razor Edge Pitbulls say? ### Paraphrase: The Laws of Honduras Regarding Razor Edge Pitbull. (1) This is a very important law that has been passed by the Honduran government to protect these dogs from being shot or killed for their fur and skin, which are considered illegal under the',\n",
       " 'Paraphrase the following sentence: What is the best way to type Spanish accents in Windows 7? ### Paraphrase: The best way to type Spanish accents in Windows 7. This means that you can use a keyboard shortcut or an accent key on your computer, and then write out each word with its correct pronunciation using the appropriate accent symbol (e.g., “',\n",
       " \"Paraphrase the following sentence: How do I retrieve old snapchat messages? ### Paraphrase: The best way to get rid of a bad habit is by changing it. 1) Change your habits and behaviors, not just what you have done in the past (or even if that's true). 2) Reward yourself for making changes\",\n",
       " 'Paraphrase the following sentence: What are the best online courses for digital marketing? ### Paraphrase: The best course is a good one. 1) A great way to learn about your topic and get started with it, but not necessarily as an easy or quick thing to do (e.g., you can’t just read all of the',\n",
       " 'Paraphrase the following sentence: How does one become a persuasive speaker? ### Paraphrase: The most important thing is to be able to speak clearly and confidently. It’s not enough just saying what you want people to hear, because they need your words in order for them to understand it fully. You have to make sure that every word',\n",
       " \"Paraphrase the following sentence: Is World War 3 coming? ### Paraphrase: The world is going to be in a war. (1) I think it's time for us all to get together and talk about how we can prevent this from happening again, so that no one gets hurt or killed by another country.) #2\",\n",
       " 'Paraphrase the following sentence: Which fictional character do you think you are and why? ### Paraphrase: The main characters in a story or novel. 1) A person who is important to your life, such as a parent, teacher, friend, etc., but not necessarily an actual human being (e.g., a dog). 2)',\n",
       " 'Paraphrase the following sentence: Which can be the best laptop under 30000? ### Paraphrase: The best computer is a good one. ## Question #12: What are some examples of metaphors in literature that use similes and personification to describe something else, such as an object or action? ### Paraphrasing question: What does it',\n",
       " 'Paraphrase the following sentence: What is the best dating scene in San Francisco? ### Paraphrase: The best dating scene in San Francisco. 1) A man and a woman are sitting on a beach, enjoying their time together while they watch sunset over the ocean waves. They have been talking for hours about how much fun it would be to go']"
      ]
     },
     "execution_count": 77,
     "metadata": {},
     "output_type": "execute_result"
    }
   ],
   "execution_count": 77
  },
  {
   "metadata": {},
   "cell_type": "code",
   "outputs": [],
   "execution_count": null,
   "source": "",
   "id": "f05e7b16910f7c4c"
  }
 ],
 "metadata": {
  "kernelspec": {
   "display_name": "Python 3",
   "language": "python",
   "name": "python3"
  },
  "language_info": {
   "codemirror_mode": {
    "name": "ipython",
    "version": 2
   },
   "file_extension": ".py",
   "mimetype": "text/x-python",
   "name": "python",
   "nbconvert_exporter": "python",
   "pygments_lexer": "ipython2",
   "version": "2.7.6"
  }
 },
 "nbformat": 4,
 "nbformat_minor": 5
}
